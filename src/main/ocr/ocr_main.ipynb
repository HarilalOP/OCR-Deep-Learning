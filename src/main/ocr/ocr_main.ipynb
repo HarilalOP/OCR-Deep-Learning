{
 "cells": [
  {
   "cell_type": "code",
   "execution_count": 1,
   "metadata": {
    "colab": {
     "base_uri": "https://localhost:8080/",
     "height": 34
    },
    "colab_type": "code",
    "id": "tOc_e_zSdqlG",
    "outputId": "e1dfc22b-8648-40ce-be74-1eb1b0a5e12d"
   },
   "outputs": [
    {
     "name": "stderr",
     "output_type": "stream",
     "text": [
      "Using TensorFlow backend.\n"
     ]
    }
   ],
   "source": [
    "from keras import backend as K\n",
    "from keras.layers.convolutional import Conv2D, MaxPooling2D\n",
    "from keras.layers import Input, Dense, Activation\n",
    "from keras.layers import Reshape, Lambda\n",
    "from keras.layers.merge import add, concatenate\n",
    "from keras.models import Model\n",
    "from keras.layers.recurrent import GRU\n",
    "from keras.models import load_model\n",
    "import numpy as np"
   ]
  },
  {
   "cell_type": "code",
   "execution_count": 2,
   "metadata": {
    "colab": {},
    "colab_type": "code",
    "id": "gTLJnWECdvRV"
   },
   "outputs": [],
   "source": [
    "def ctc_lambda_func(args):\n",
    "    y_pred, labels, input_length, label_length = args\n",
    "    y_pred = y_pred[:, :, :]\n",
    "    return K.ctc_batch_cost(labels, y_pred, input_length, label_length)"
   ]
  },
  {
   "cell_type": "code",
   "execution_count": 79,
   "metadata": {
    "colab": {},
    "colab_type": "code",
    "id": "HBcGAnsW9t8j"
   },
   "outputs": [],
   "source": [
    "def return_model(training,img_w,img_h,depth,alphabetLength,absolute_max_string_len):\n",
    "    conv_filters = 16\n",
    "    kernel_size = (3, 3)\n",
    "    pool_size = 2\n",
    "    time_dense_size = 32\n",
    "    rnn_size = 512\n",
    "\n",
    "    act='relu'\n",
    "    if K.image_data_format()=='channels_first':\n",
    "      input_shape=(depth,img_w,img_h)\n",
    "    else:\n",
    "      input_shape=(img_w,img_h,depth)\n",
    "\n",
    "    input_data=Input(name='the_input',shape=input_shape,dtype='float32')\n",
    "    inner =Conv2D(conv_filters,kernel_size,padding='same',activation=act,\n",
    "              kernel_initializer='he_normal',name='conv1')(input_data)\n",
    "\n",
    "    inner =MaxPooling2D(pool_size=(pool_size,pool_size),name='max1')(inner)\n",
    "    inner =Conv2D(conv_filters,kernel_size,padding='same',activation=act,\n",
    "              kernel_initializer='he_normal',name='conv2')(inner)\n",
    "\n",
    "    inner =MaxPooling2D(pool_size=(pool_size,pool_size),name='max2')(inner)\n",
    "    conv_to_rnn_dims = (img_w // (pool_size**2),(img_h // (pool_size**2 )) * conv_filters)\n",
    "    inner = Reshape(target_shape=conv_to_rnn_dims, name='reshape')(inner)\n",
    "    inner = Dense(time_dense_size, activation=act, name='dense1')(inner)       \n",
    "\n",
    "    gru_1 = GRU(rnn_size, return_sequences=True,\n",
    "          kernel_initializer='he_normal', name='gru1')(inner)\n",
    "    gru_1b = GRU(rnn_size, return_sequences=True,\n",
    "           go_backwards=True, kernel_initializer='he_normal',\n",
    "           name='gru1_b')(inner)\n",
    "    gru1_merged = add([gru_1, gru_1b])\n",
    "\n",
    "    gru_2 = GRU(rnn_size, return_sequences=True,\n",
    "          kernel_initializer='he_normal', name='gru2')(gru1_merged)\n",
    "    gru_2b = GRU(rnn_size, return_sequences=True, go_backwards=True,\n",
    "           kernel_initializer='he_normal', name='gru2_b')(gru1_merged)\n",
    "\n",
    "    # transforms RNN output to character activations:\n",
    "    inner = Dense(alphabetLength, kernel_initializer='he_normal',name='dense2')(concatenate([gru_2, gru_2b]))\n",
    "    y_pred = Activation('softmax', name='softmax')(inner)\n",
    "\n",
    "    labels = Input(name='the_labels', shape=[absolute_max_string_len], dtype='float32')\n",
    "    input_length = Input(name='input_length', shape=[1], dtype='int64')\n",
    "    label_length = Input(name='label_length', shape=[1], dtype='int64')\n",
    "\n",
    "    loss_out = Lambda(ctc_lambda_func, output_shape=(1,), name='ctc')([y_pred, labels, input_length, label_length])\n",
    "    \n",
    "    if training:\n",
    "        return Model(inputs=[input_data, labels, input_length, label_length], outputs=loss_out)\n",
    "    else:\n",
    "        return Model(inputs=[input_data], outputs=y_pred)"
   ]
  },
  {
   "cell_type": "code",
   "execution_count": 80,
   "metadata": {
    "colab": {},
    "colab_type": "code",
    "id": "DrM0Az0B93xR"
   },
   "outputs": [],
   "source": [
    "# character classes \n",
    "alphabet = u'abcdefghijklmnopqrstuvwxyzABCDEFGHIJKLMNOPQRSTUVWXYZ0123456789 '"
   ]
  },
  {
   "cell_type": "code",
   "execution_count": 81,
   "metadata": {
    "colab": {},
    "colab_type": "code",
    "id": "Koi939kW_Ebo"
   },
   "outputs": [],
   "source": [
    "from imutils import paths\n",
    "import cv2\n",
    "import random\n",
    "from keras.preprocessing.image import img_to_array\n",
    "import numpy as np\n",
    "\n",
    "def text_to_labels(text,alphabet):\n",
    "    ret = []\n",
    "    for char in text:\n",
    "        ret.append(alphabet.find(char))\n",
    "    return ret\n",
    "\n",
    "def loadpic(path,batchSize,absolute_max_string_len,downsample_factor):\n",
    "    imgPaths=list(paths.list_images(path))\n",
    "    random.seed(20)\n",
    "    #print(imgPaths)\n",
    "    while 1:\n",
    "        x_batch=[]\n",
    "        y_batch=np.ones([batchSize, absolute_max_string_len]) * -1\n",
    "        input_length = np.zeros([batchSize, 1])\n",
    "        label_length=np.zeros([batchSize, 1])\n",
    "        labels_batch=[]\n",
    "        for i in range(batchSize):\n",
    "                imgpath=imgPaths[random.randint(0,len(imgPaths)-1)]\n",
    "                img=cv2.imread(imgpath,1)\n",
    "                img=cv2.resize(img,(128,64))\n",
    "                img=img_to_array(img)\n",
    "                \n",
    "                x_batch.append(img)\n",
    "\n",
    "                input_length[i]=np.array(img).shape[1]//downsample_factor\n",
    "                #print(imgpath)\n",
    "                imgname=imgpath[imgpath.rindex('/')+1:imgpath.rindex('.')]\n",
    "                #print(imgname)\n",
    "                labels_batch.append(imgname)\n",
    "\n",
    "                label_length[i]=len(imgname)\n",
    "                #print(label_length[i])\n",
    "                y_batch[i,0:len(imgname)]=text_to_labels(imgname,alphabet)\n",
    "        x_batch = np.array(x_batch, dtype=\"float\") / 255.0\n",
    "        x_batch= x_batch.swapaxes(1,2)\n",
    "\n",
    "        inputs = {'the_input': x_batch,\n",
    "                  'the_labels': y_batch,\n",
    "                  'input_length': input_length,\n",
    "                  'label_length': label_length,\n",
    "                  'source_str': labels_batch  \n",
    "                  }\n",
    "        outputs = {'ctc': np.zeros([batchSize])}  \n",
    "        yield (inputs,outputs)"
   ]
  },
  {
   "cell_type": "code",
   "execution_count": 87,
   "metadata": {
    "colab": {
     "base_uri": "https://localhost:8080/",
     "height": 2614
    },
    "colab_type": "code",
    "id": "g_hWjvfd_Qxc",
    "outputId": "728e09a0-c4d5-4a5e-e6b6-63078a7adc01"
   },
   "outputs": [],
   "source": [
    "from keras import backend as K\n",
    "from keras.optimizers import SGD\n",
    "\n",
    "def train(dataPath,batchSize,absolute_max_string_len,downsample_factor):\n",
    "    training = True\n",
    "    model=return_model(training,128,64,3,67,absolute_max_string_len)\n",
    "    \n",
    "    sgd = SGD(lr=0.02, decay=1e-6, momentum=0.9, nesterov=True, clipnorm=5)\n",
    "    model.compile(loss={'ctc': lambda y_true, y_pred: y_pred}, optimizer=sgd)\n",
    "    model.summary()\n",
    "\n",
    "    model.fit_generator(generator=loadpic(dataPath,batchSize,absolute_max_string_len,downsample_factor),\n",
    "    steps_per_epoch=1000, epochs=2)\n",
    "    model.save_weights('weights.h5')\n",
    "    model.save('m.h5')\n",
    "    return model"
   ]
  },
  {
   "cell_type": "code",
   "execution_count": 88,
   "metadata": {},
   "outputs": [
    {
     "name": "stdout",
     "output_type": "stream",
     "text": [
      "__________________________________________________________________________________________________\n",
      "Layer (type)                    Output Shape         Param #     Connected to                     \n",
      "==================================================================================================\n",
      "the_input (InputLayer)          (None, 128, 64, 3)   0                                            \n",
      "__________________________________________________________________________________________________\n",
      "conv1 (Conv2D)                  (None, 128, 64, 16)  448         the_input[0][0]                  \n",
      "__________________________________________________________________________________________________\n",
      "max1 (MaxPooling2D)             (None, 64, 32, 16)   0           conv1[0][0]                      \n",
      "__________________________________________________________________________________________________\n",
      "conv2 (Conv2D)                  (None, 64, 32, 16)   2320        max1[0][0]                       \n",
      "__________________________________________________________________________________________________\n",
      "max2 (MaxPooling2D)             (None, 32, 16, 16)   0           conv2[0][0]                      \n",
      "__________________________________________________________________________________________________\n",
      "reshape (Reshape)               (None, 32, 256)      0           max2[0][0]                       \n",
      "__________________________________________________________________________________________________\n",
      "dense1 (Dense)                  (None, 32, 32)       8224        reshape[0][0]                    \n",
      "__________________________________________________________________________________________________\n",
      "gru1 (GRU)                      (None, 32, 512)      837120      dense1[0][0]                     \n",
      "__________________________________________________________________________________________________\n",
      "gru1_b (GRU)                    (None, 32, 512)      837120      dense1[0][0]                     \n",
      "__________________________________________________________________________________________________\n",
      "add_3 (Add)                     (None, 32, 512)      0           gru1[0][0]                       \n",
      "                                                                 gru1_b[0][0]                     \n",
      "__________________________________________________________________________________________________\n",
      "gru2 (GRU)                      (None, 32, 512)      1574400     add_3[0][0]                      \n",
      "__________________________________________________________________________________________________\n",
      "gru2_b (GRU)                    (None, 32, 512)      1574400     add_3[0][0]                      \n",
      "__________________________________________________________________________________________________\n",
      "concatenate_3 (Concatenate)     (None, 32, 1024)     0           gru2[0][0]                       \n",
      "                                                                 gru2_b[0][0]                     \n",
      "__________________________________________________________________________________________________\n",
      "dense2 (Dense)                  (None, 32, 67)       68675       concatenate_3[0][0]              \n",
      "__________________________________________________________________________________________________\n",
      "softmax (Activation)            (None, 32, 67)       0           dense2[0][0]                     \n",
      "__________________________________________________________________________________________________\n",
      "the_labels (InputLayer)         (None, 16)           0                                            \n",
      "__________________________________________________________________________________________________\n",
      "input_length (InputLayer)       (None, 1)            0                                            \n",
      "__________________________________________________________________________________________________\n",
      "label_length (InputLayer)       (None, 1)            0                                            \n",
      "__________________________________________________________________________________________________\n",
      "ctc (Lambda)                    (None, 1)            0           softmax[0][0]                    \n",
      "                                                                 the_labels[0][0]                 \n",
      "                                                                 input_length[0][0]               \n",
      "                                                                 label_length[0][0]               \n",
      "==================================================================================================\n",
      "Total params: 4,902,707\n",
      "Trainable params: 4,902,707\n",
      "Non-trainable params: 0\n",
      "__________________________________________________________________________________________________\n",
      "Epoch 1/2\n",
      "['ocr/6896 MON.png', 'ocr/3815 at.png', 'ocr/3855 wx.png', 'ocr/6008 COW.png', 'ocr/390 into.png', 'ocr/620 beth.png', 'ocr/290 yeah.png', 'ocr/7400 ear.png', 'ocr/2065 u.png', 'ocr/4975 YU.png', 'ocr/6456 ALI.png', 'ocr/5264 AV.png', 'ocr/950 cams.png', 'ocr/6165 van.png', 'ocr/4265 bad.png', 'ocr/1144 DH.png', 'ocr/2015 sd.png', 'ocr/430 jpg.png', 'ocr/1990 us.png', 'ocr/7365 CON.png', 'ocr/4552 RO.png', 'ocr/5 shaft.png', 'ocr/5872 IBM.png', 'ocr/5130 it.png', 'ocr/165 ko.png', 'ocr/3715 pda.png', 'ocr/352 LOGO.png', 'ocr/7035 es.png', 'ocr/3880 rf.png', 'ocr/3100 doe.png', 'ocr/905 el.png', 'ocr/488 WARD.png', 'ocr/4280 le.png', 'ocr/5400 q.png', 'ocr/2425 wed.png', 'ocr/895 da.png', 'ocr/655 roy.png', 'ocr/5635 FOX.png', 'ocr/390 wl.png', 'ocr/940 JL.png', 'ocr/4950 sec.png', 'ocr/0 cold.png', 'ocr/210 LO.png', 'ocr/5750 old.png', 'ocr/2648 CAL.png', 'ocr/3064 HQ.png', 'ocr/5850 ok.png', 'ocr/1960 off.png', 'ocr/6155 eur.png', 'ocr/5760 ss.png', 'ocr/6960 ui.png', 'ocr/1940 epa.png', 'ocr/3808 HIT.png', 'ocr/2010 ist.png', 'ocr/3050 hey.png', 'ocr/6512 LM.png', 'ocr/6096 STD.png', 'ocr/6520 opt.png', 'ocr/185 jam.png', 'ocr/5930 lap.png', 'ocr/770 fell.png', 'ocr/3340 pn.png', 'ocr/4760 up.png', 'ocr/2510 tgp.png', 'ocr/3165 ati.png', 'ocr/16 LOU.png', 'ocr/2008 DID.png', 'ocr/6720 air.png', 'ocr/10 vice.png', 'ocr/5950 pv.png', 'ocr/6032 OR.png', 'ocr/4232 TED.png', 'ocr/6860 nw.png', 'ocr/944 TODD.png', 'ocr/5504 NG.png', 'ocr/4128 RI.png', 'ocr/5656 SIX.png', 'ocr/56 COSTS.png', 'ocr/910 cdt.png', 'ocr/2950 as.png', 'ocr/5464 BL.png', 'ocr/7330 wi.png', 'ocr/6680 dm.png', 'ocr/1245 css.png', 'ocr/305 swim.png', 'ocr/7275 val.png', 'ocr/6144 OM.png', 'ocr/5045 gs.png', 'ocr/1490 pg.png', 'ocr/3912 OG.png', 'ocr/4425 fwd.png', 'ocr/2605 ent.png', 'ocr/6616 ZOO.png', 'ocr/2970 vcr.png', 'ocr/816 HEAT.png', 'ocr/655 gi.png', 'ocr/3768 MIT.png', 'ocr/2270 THU.png', 'ocr/5020 uw.png', 'ocr/4260 cb.png', 'ocr/4008 PSP.png', 'ocr/1952 HAM.png', 'ocr/6850 bk.png', 'ocr/7152 JAN.png', 'ocr/2625 erp.png', 'ocr/1472 FLY.png', 'ocr/730 NU.png', 'ocr/1815 atm.png', 'ocr/5865 dee.png', 'ocr/2365 rpg.png', 'ocr/605 sake.png', 'ocr/6928 YET.png', 'ocr/4440 vat.png', 'ocr/5705 CN.png', 'ocr/7265 sao.png', 'ocr/3390 CT.png', 'ocr/192 DIFF.png', 'ocr/6820 ww.png', 'ocr/3825 ppm.png', 'ocr/96 LIKE.png', 'ocr/2775 bet.png', 'ocr/4845 hc.png', 'ocr/3130 in.png', 'ocr/4968 TT.png', 'ocr/1896 BBS.png', 'ocr/3690 ash.png', 'ocr/6845 ai.png', 'ocr/3336 PE.png', 'ocr/70 PAN.png', 'ocr/2048 FAQ.png', 'ocr/208 BOC.png', 'ocr/5345 lf.png', 'ocr/4805 r.png', 'ocr/6300 bg.png', 'ocr/1600 cpu.png', 'ocr/6760 las.png', 'ocr/6856 XML.png', 'ocr/555 BO.png', 'ocr/540 gmc.png', 'ocr/6550 bat.png', 'ocr/50 dairy.png', 'ocr/3664 E.png', 'ocr/632 ADDS.png', 'ocr/290 FAR.png', 'ocr/4935 cr.png', 'ocr/380 ANY.png', 'ocr/4488 PJ.png', 'ocr/425 wife.png', 'ocr/6640 usc.png', 'ocr/2200 WT.png', 'ocr/6256 EDT.png', 'ocr/505 amp.png', 'ocr/5584 PTY.png', 'ocr/6208 TC.png', 'ocr/6040 sum.png', 'ocr/56 WALK.png', 'ocr/2070 vol.png', 'ocr/3856 FDA.png', 'ocr/1096 VIC.png', 'ocr/2985 my.png', 'ocr/5 saudi.png', 'ocr/1712 W.png', 'ocr/5970 on.png', 'ocr/2845 ski.png', 'ocr/3175 una.png', 'ocr/5220 ix.png', 'ocr/64 UC.png', 'ocr/2980 jim.png', 'ocr/5380 uni.png', 'ocr/3952 WAL.png', 'ocr/2110 lie.png', 'ocr/3552 PEN.png', 'ocr/3064 UT.png', 'ocr/2232 ART.png', 'ocr/1825 i.png', 'ocr/3665 aye.png', 'ocr/4000 m.png', 'ocr/3045 you.png', 'ocr/7288 CRM.png', 'ocr/485 want.png', 'ocr/408 GDP.png', 'ocr/2352 ATA.png', 'ocr/660 jun.png', 'ocr/6220 reg.png', 'ocr/65 GOTTA.png', 'ocr/765 irc.png', 'ocr/5904 HAY.png', 'ocr/675 of.png', 'ocr/1128 K.png', 'ocr/728 EDIT.png', 'ocr/820 se.png', 'ocr/5260 ic.png', 'ocr/925 baby.png', 'ocr/835 nose.png', 'ocr/6592 WTO.png', 'ocr/4192 GEO.png', 'ocr/75 harm.png', 'ocr/1295 aol.png', 'ocr/90 says.png', 'ocr/6165 o.png', 'ocr/3616 COL.png', 'ocr/4344 RH.png', 'ocr/385 REST.png', 'ocr/885 ONS.png', 'ocr/4145 GO.png', 'ocr/5672 TO.png', 'ocr/1620 sim.png', 'ocr/3495 wm.png', 'ocr/670 plc.png', 'ocr/845 sh.png', 'ocr/65 blues.png', 'ocr/3950 pi.png', 'ocr/3592 JR.png', 'ocr/48 CUBA.png', 'ocr/5755 lan.png', 'ocr/272 TV.png', 'ocr/60 trim.png', 'ocr/6400 CCD.png', 'ocr/7304 YR.png', 'ocr/4856 BAY.png', 'ocr/660 hart.png', 'ocr/5955 FFL.png', 'ocr/3608 MET.png', 'ocr/4170 rim.png', 'ocr/2648 LD.png', 'ocr/936 LIN.png', 'ocr/904 SIG.png', 'ocr/472 MAKE.png', 'ocr/6620 inc.png', 'ocr/4250 etc.png', 'ocr/1040 sur.png', 'ocr/1870 key.png', 'ocr/7185 nhl.png', 'ocr/6790 wv.png', 'ocr/4456 USE.png', 'ocr/4832 PVC.png', 'ocr/380 hrs.png', 'ocr/5630 bbw.png', 'ocr/5375 OUR.png', 'ocr/3245 mg.png', 'ocr/4825 ia.png', 'ocr/5110 rm.png', 'ocr/3360 nyc.png', 'ocr/4904 QC.png', 'ocr/100 ADA.png', 'ocr/7220 lol.png', 'ocr/7280 mba.png', 'ocr/1368 JON.png', 'ocr/20 fotos.png', 'ocr/2535 ave.png', 'ocr/272 PINE.png']\n",
      "1000/1000 [==============================] - 1361s 1s/step - loss: 4.6469\n",
      "Epoch 2/2\n",
      "1000/1000 [==============================] - 1328s 1s/step - loss: 0.0074\n"
     ]
    }
   ],
   "source": [
    "trainFolder='ocr'\n",
    "m = train(trainFolder,batchSize=32,absolute_max_string_len=16,downsample_factor=4)"
   ]
  },
  {
   "cell_type": "code",
   "execution_count": 101,
   "metadata": {},
   "outputs": [],
   "source": [
    "def labels_to_text(labels):\n",
    "    ret = []\n",
    "    for c in labels:\n",
    "        if c == len(alphabet):  # CTC Blank\n",
    "            ret.append(\"\")\n",
    "        else:\n",
    "            ret.append(alphabet[c])\n",
    "    return \"\".join(ret)\n",
    "def decode_predict_ctc(out, top_paths = 1):\n",
    "    results = []\n",
    "    beam_width = 5\n",
    "    if beam_width < top_paths:\n",
    "      beam_width = top_paths\n",
    "    for i in range(top_paths):\n",
    "      lables = K.get_value(K.ctc_decode(out, input_length=np.ones(out.shape[0])*out.shape[1],\n",
    "                           greedy=False, beam_width=beam_width, top_paths=top_paths)[0][i])[0]\n",
    "      text = labels_to_text(lables)\n",
    "      results.append(text)\n",
    "    return results\n",
    "\n",
    "def test(modelPath,testPicTest):\n",
    "    img=cv2.imread(testPicTest)\n",
    "    img=cv2.resize(img,(128,64))\n",
    "    img=img_to_array(img)\n",
    "    img=np.array(img,dtype='float')/255.0\n",
    "    img=np.expand_dims(img, axis=0)\n",
    "    img=img.swapaxes(1,2)   \n",
    "    \n",
    "    net_out_value = modelPath.predict(img)\n",
    "    top_pred_texts = decode_predict_ctc(net_out_value)\n",
    "    return top_pred_texts"
   ]
  },
  {
   "cell_type": "code",
   "execution_count": 91,
   "metadata": {},
   "outputs": [],
   "source": [
    "model_with_w = return_model(False,128,64,3,67,16)"
   ]
  },
  {
   "cell_type": "code",
   "execution_count": 99,
   "metadata": {},
   "outputs": [],
   "source": [
    "model_with_w.load_weights('weights.h5')"
   ]
  },
  {
   "cell_type": "code",
   "execution_count": 102,
   "metadata": {},
   "outputs": [
    {
     "name": "stdout",
     "output_type": "stream",
     "text": [
      "WARNING:tensorflow:From /root/anaconda2/lib/python2.7/site-packages/keras/backend/tensorflow_backend.py:4303: sparse_to_dense (from tensorflow.python.ops.sparse_ops) is deprecated and will be removed in a future version.\n",
      "Instructions for updating:\n",
      "Create a `tf.sparse.SparseTensor` and use `tf.sparse.to_dense` instead.\n"
     ]
    },
    {
     "data": {
      "text/plain": [
       "[u'70 PAN']"
      ]
     },
     "execution_count": 102,
     "metadata": {},
     "output_type": "execute_result"
    }
   ],
   "source": [
    "test(model_with_w,'70 PAN.png')"
   ]
  }
 ],
 "metadata": {
  "accelerator": "TPU",
  "colab": {
   "collapsed_sections": [],
   "name": "OCR_GOPAL.ipynb",
   "provenance": [],
   "version": "0.3.2"
  },
  "kernelspec": {
   "display_name": "Python 2",
   "language": "python",
   "name": "python2"
  },
  "language_info": {
   "codemirror_mode": {
    "name": "ipython",
    "version": 2
   },
   "file_extension": ".py",
   "mimetype": "text/x-python",
   "name": "python",
   "nbconvert_exporter": "python",
   "pygments_lexer": "ipython2",
   "version": "2.7.15"
  }
 },
 "nbformat": 4,
 "nbformat_minor": 2
}
